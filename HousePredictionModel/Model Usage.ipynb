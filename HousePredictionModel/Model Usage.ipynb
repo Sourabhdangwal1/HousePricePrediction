{
 "cells": [
  {
   "cell_type": "code",
   "execution_count": 1,
   "id": "bb49c19e-70a6-451a-9f6f-308771a3032f",
   "metadata": {},
   "outputs": [
    {
     "data": {
      "text/plain": [
       "array([25.071])"
      ]
     },
     "execution_count": 1,
     "metadata": {},
     "output_type": "execute_result"
    }
   ],
   "source": [
    "from joblib import dump, load\n",
    "import numpy as np\n",
    "model = load('Dragon.joblib') \n",
    "features = np.array([[-5.43942006, 4.12628155, -1.6165014, -0.67288841, -1.42262747,\n",
    "       -11.44443979304, -49.31238772,  7.61111401, -26.0016879 , -0.5778192 ,\n",
    "       -0.97491834,  0.41164221, -66.86091034]])\n",
    "model.predict(features)"
   ]
  },
  {
   "cell_type": "code",
   "execution_count": 7,
   "id": "7ef4d681-71dd-43f2-baae-76302ef2d70f",
   "metadata": {},
   "outputs": [
    {
     "data": {
      "text/plain": [
       "array([24.918])"
      ]
     },
     "execution_count": 7,
     "metadata": {},
     "output_type": "execute_result"
    }
   ],
   "source": [
    "from joblib import dump, load\n",
    "import numpy as np\n",
    "model = load('Dragon.joblib') \n",
    "features = np.array([[-5.43942006, 5.12628155, -1.6165014, -0.67288841, -1.42262747,\n",
    "       -11.44443979304, -47.31238772,  7.61111401, -26.0016879 , -0.5778192 ,\n",
    "       -0.97491834,  1.41164221 , -65.86091034]])\n",
    "model.predict(features)"
   ]
  },
  {
   "cell_type": "code",
   "execution_count": null,
   "id": "9a0decb2-af2d-404a-8d45-189a98c2234a",
   "metadata": {},
   "outputs": [],
   "source": []
  }
 ],
 "metadata": {
  "kernelspec": {
   "display_name": "Python 3 (ipykernel)",
   "language": "python",
   "name": "python3"
  },
  "language_info": {
   "codemirror_mode": {
    "name": "ipython",
    "version": 3
   },
   "file_extension": ".py",
   "mimetype": "text/x-python",
   "name": "python",
   "nbconvert_exporter": "python",
   "pygments_lexer": "ipython3",
   "version": "3.12.4"
  }
 },
 "nbformat": 4,
 "nbformat_minor": 5
}
